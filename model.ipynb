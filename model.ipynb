{
 "cells": [
  {
   "cell_type": "markdown",
   "metadata": {},
   "source": [
    "# SMS Spam Collection\n",
    "\n",
    "Qëllimi i këtij projekti është të zhvillojmë dhe trajnojmë një model të mësimit të makinës që mund të diferencojë mesazhet e dëshiruara (ham) dhe ato të padëshiruara (spam) në një koleksion të madh të mesazheve SMS. Duke përdorur teknika të ndryshme të përpunimit të gjuhës natyrore dhe modele të mësimit të makinës, synojmë të arrijmë një saktësi të lartë në parashikimin e kategorisë së secilit mesazh. Kjo mundëson filtrimin efikas të mesazheve spam dhe përmirëson përvojën e përdoruesit duke minimizuar ndërhyrjet e padëshiruara. "
   ]
  },
  {
   "cell_type": "markdown",
   "metadata": {},
   "source": [
    "### Libraritë e përdorura"
   ]
  },
  {
   "cell_type": "code",
   "execution_count": 119,
   "metadata": {},
   "outputs": [],
   "source": [
    "import pandas as pd\n",
    "import csv\n",
    "import numpy as np\n",
    "import matplotlib.pyplot as plt\n",
    "import seaborn as sns\n",
    "from sklearn.model_selection import train_test_split,cross_val_score\n",
    "from sklearn.feature_extraction.text import TfidfVectorizer\n",
    "from sklearn.naive_bayes import MultinomialNB\n",
    "from sklearn.metrics import accuracy_score, confusion_matrix, classification_report\n",
    "from sklearn.linear_model import LogisticRegression\n",
    "from sklearn.svm import SVC\n",
    "from sklearn.tree import DecisionTreeClassifier\n",
    "from sklearn.utils import resample\n",
    "from imblearn.over_sampling import SMOTE\n",
    "from sklearn.model_selection import train_test_split\n",
    "from sklearn.datasets import make_classification\n",
    "from sklearn.ensemble import GradientBoostingClassifier\n",
    "from keras.models import Sequential\n",
    "from keras.layers import Dense, Dropout\n",
    "import tensorflow.keras as keras\n",
    "\n"
   ]
  },
  {
   "cell_type": "code",
   "execution_count": 118,
   "metadata": {},
   "outputs": [
    {
     "name": "stdout",
     "output_type": "stream",
     "text": [
      "Dataset successfully converted to CSV.\n"
     ]
    }
   ],
   "source": [
    "# Define input and output file paths\n",
    "input_file = \"SMSSpamCollection.csv\"\n",
    "output_file = \"SMS_Spam_Collection.csv\"\n",
    "\n",
    "# Open input and output files\n",
    "with open(input_file, 'r', encoding='utf-8') as infile, open(output_file, 'w', newline='', encoding='utf-8') as outfile:\n",
    "    # Create CSV writer\n",
    "    writer = csv.writer(outfile)\n",
    "    \n",
    "    # Iterate over lines in the input file\n",
    "    for line in infile:\n",
    "        # Split line into label and message\n",
    "        label, message = line.strip().split('\\t')\n",
    "        \n",
    "        # Write label and message to CSV file\n",
    "        writer.writerow([label, message])\n",
    "\n",
    "print(\"Dataset successfully converted to CSV.\")\n"
   ]
  },
  {
   "cell_type": "markdown",
   "metadata": {},
   "source": [
    "### Leximi i dataset-it"
   ]
  },
  {
   "cell_type": "code",
   "execution_count": 120,
   "metadata": {},
   "outputs": [],
   "source": [
    "# Leximi i dataset-it\n",
    "df = pd.read_csv(\"SMS_Spam_Collection.csv\")"
   ]
  },
  {
   "cell_type": "markdown",
   "metadata": {},
   "source": [
    "### Metodat ndihmëse"
   ]
  },
  {
   "cell_type": "code",
   "execution_count": 121,
   "metadata": {},
   "outputs": [],
   "source": [
    "# Funksioni për të hedhur një vështrim në rreshtat e parë të dataset-it.\n",
    "def printo_datasetin(text, df):\n",
    "    print(\"\\n\" + text + \":\")\n",
    "    display(df.head())"
   ]
  },
  {
   "cell_type": "markdown",
   "metadata": {},
   "source": [
    "## FAZA 1"
   ]
  },
  {
   "cell_type": "markdown",
   "metadata": {},
   "source": [
    "### Kualiteti i të dhënave "
   ]
  },
  {
   "cell_type": "markdown",
   "metadata": {},
   "source": [
    "- Struktura e bazës së të dhënave"
   ]
  },
  {
   "cell_type": "code",
   "execution_count": 122,
   "metadata": {},
   "outputs": [
    {
     "name": "stdout",
     "output_type": "stream",
     "text": [
      "\n",
      "Dataset-i:\n"
     ]
    },
    {
     "data": {
      "text/html": [
       "<div>\n",
       "<style scoped>\n",
       "    .dataframe tbody tr th:only-of-type {\n",
       "        vertical-align: middle;\n",
       "    }\n",
       "\n",
       "    .dataframe tbody tr th {\n",
       "        vertical-align: top;\n",
       "    }\n",
       "\n",
       "    .dataframe thead th {\n",
       "        text-align: right;\n",
       "    }\n",
       "</style>\n",
       "<table border=\"1\" class=\"dataframe\">\n",
       "  <thead>\n",
       "    <tr style=\"text-align: right;\">\n",
       "      <th></th>\n",
       "      <th>Label</th>\n",
       "      <th>Message</th>\n",
       "    </tr>\n",
       "  </thead>\n",
       "  <tbody>\n",
       "    <tr>\n",
       "      <th>0</th>\n",
       "      <td>ham</td>\n",
       "      <td>Go until jurong point, crazy.. Available only ...</td>\n",
       "    </tr>\n",
       "    <tr>\n",
       "      <th>1</th>\n",
       "      <td>ham</td>\n",
       "      <td>Ok lar... Joking wif u oni...</td>\n",
       "    </tr>\n",
       "    <tr>\n",
       "      <th>2</th>\n",
       "      <td>spam</td>\n",
       "      <td>Free entry in 2 a wkly comp to win FA Cup fina...</td>\n",
       "    </tr>\n",
       "    <tr>\n",
       "      <th>3</th>\n",
       "      <td>ham</td>\n",
       "      <td>U dun say so early hor... U c already then say...</td>\n",
       "    </tr>\n",
       "    <tr>\n",
       "      <th>4</th>\n",
       "      <td>ham</td>\n",
       "      <td>Nah I don't think he goes to usf, he lives aro...</td>\n",
       "    </tr>\n",
       "  </tbody>\n",
       "</table>\n",
       "</div>"
      ],
      "text/plain": [
       "  Label                                            Message\n",
       "0   ham  Go until jurong point, crazy.. Available only ...\n",
       "1   ham                      Ok lar... Joking wif u oni...\n",
       "2  spam  Free entry in 2 a wkly comp to win FA Cup fina...\n",
       "3   ham  U dun say so early hor... U c already then say...\n",
       "4   ham  Nah I don't think he goes to usf, he lives aro..."
      ]
     },
     "metadata": {},
     "output_type": "display_data"
    }
   ],
   "source": [
    "# Shfaqja e dataseti-it\n",
    "printo_datasetin(\"Dataset-i\", df)"
   ]
  },
  {
   "cell_type": "markdown",
   "metadata": {},
   "source": [
    "- Njohuri mbi llojet e të dhënave"
   ]
  },
  {
   "cell_type": "code",
   "execution_count": 123,
   "metadata": {},
   "outputs": [
    {
     "name": "stdout",
     "output_type": "stream",
     "text": [
      "<class 'pandas.core.frame.DataFrame'>\n",
      "RangeIndex: 5574 entries, 0 to 5573\n",
      "Data columns (total 2 columns):\n",
      " #   Column   Non-Null Count  Dtype \n",
      "---  ------   --------------  ----- \n",
      " 0   Label    5574 non-null   object\n",
      " 1   Message  5574 non-null   object\n",
      "dtypes: object(2)\n",
      "memory usage: 87.2+ KB\n"
     ]
    }
   ],
   "source": [
    "# Për të fituar njohuri mbi llojet e të dhënave ekzekutojmë këtë komandë:\n",
    "df.info()"
   ]
  },
  {
   "cell_type": "markdown",
   "metadata": {},
   "source": [
    "- Kontrollimi i vlerave null"
   ]
  },
  {
   "cell_type": "code",
   "execution_count": 124,
   "metadata": {},
   "outputs": [
    {
     "data": {
      "text/plain": [
       "Label      0\n",
       "Message    0\n",
       "dtype: int64"
      ]
     },
     "execution_count": 124,
     "metadata": {},
     "output_type": "execute_result"
    }
   ],
   "source": [
    "# Komanda për kontrollimin e vlerave null:\n",
    "df.isnull().sum()"
   ]
  },
  {
   "cell_type": "markdown",
   "metadata": {},
   "source": [
    "- Kërkimi i duplikatëve"
   ]
  },
  {
   "cell_type": "code",
   "execution_count": 125,
   "metadata": {},
   "outputs": [
    {
     "name": "stdout",
     "output_type": "stream",
     "text": [
      "Duplikatet: 414\n"
     ]
    }
   ],
   "source": [
    "# Komanda për kërkimin e duplikateve dhe shfaqja e rezultatit\n",
    "print(\"Duplikatet: \" + str(df.duplicated().sum()))"
   ]
  },
  {
   "cell_type": "markdown",
   "metadata": {},
   "source": [
    "- Fshirja e duplikateve"
   ]
  },
  {
   "cell_type": "code",
   "execution_count": 126,
   "metadata": {},
   "outputs": [
    {
     "name": "stdout",
     "output_type": "stream",
     "text": [
      "Duplikatet: 0\n"
     ]
    }
   ],
   "source": [
    "# Fshirja e duplikateve\n",
    "df.drop_duplicates(['Label', 'Message'], keep='first', inplace=True)\n",
    "\n",
    "# Ruajtja e të dhënave të pastruara në new_df\n",
    "new_df = df.copy()\n",
    "\n",
    "# Kërkimi përsëri i duplikateve dhe shfaqja e rezultatit\n",
    "print(\"Duplikatet: \" + str(new_df.duplicated().sum()))\n"
   ]
  },
  {
   "cell_type": "markdown",
   "metadata": {},
   "source": [
    "- Mostrimi i të dhënave"
   ]
  },
  {
   "cell_type": "code",
   "execution_count": 74,
   "metadata": {},
   "outputs": [
    {
     "data": {
      "image/png": "[encoded data removed]",
      "text/plain": [
       "<Figure size 600x400 with 1 Axes>"
      ]
     },
     "metadata": {},
     "output_type": "display_data"
    },
    {
     "data": {
      "image/png": "[encoded data removed]",
      "text/plain": [
       "<Figure size 600x400 with 1 Axes>"
      ]
     },
     "metadata": {},
     "output_type": "display_data"
    }
   ],
   "source": [
    "df = pd.DataFrame(new_df)\n",
    "\n",
    "# Vizualizimi i shpërndarjes së klasave para mostrimit\n",
    "plt.figure(figsize=(6, 4))\n",
    "sns.countplot(x='Label', data=df)\n",
    "plt.title('Shpërndarja e klasave para mostrimit')\n",
    "plt.show()\n",
    "\n",
    "# Mostrimi për balancimin e klasave\n",
    "df_majority = df[df['Label'] == 'ham']\n",
    "df_minority = df[df['Label'] == 'spam']\n",
    "df_minority_upsampled = resample(df_minority, replace=True, n_samples=len(df_majority), random_state=123)\n",
    "df_sampled = pd.concat([df_majority, df_minority_upsampled])\n",
    "\n",
    "# Vizualizimi i shpërndarjes së klasave pas mostrimit\n",
    "plt.figure(figsize=(6, 4))\n",
    "sns.countplot(x='Label', data=df_sampled)\n",
    "plt.title('Shpërndarja e klasave pas mostrimit')\n",
    "plt.show()\n"
   ]
  },
  {
   "cell_type": "markdown",
   "metadata": {},
   "source": [
    "- Agregimi i të dhënave"
   ]
  },
  {
   "cell_type": "code",
   "execution_count": 75,
   "metadata": {},
   "outputs": [
    {
     "name": "stdout",
     "output_type": "stream",
     "text": [
      "Statistika të Përgjithshme:\n",
      "Gjatësia mesatare e mesazheve: 79.14\n",
      "Gjatësia maksimale e mesazheve: 910\n",
      "Gjatësia minimale e mesazheve: 2\n",
      "Numri i mesazheve 'spam': 642\n",
      "Numri i mesazheve 'ham': 4518\n",
      "Gjatësia mesatare e mesazheve sipas kategorisë:\n",
      "Spam: 137.41\n",
      "Ham: 70.86\n"
     ]
    }
   ],
   "source": [
    "# Shtimi i kolonës së gjatësisë së mesazhit\n",
    "df['Message_length'] = df['Message'].apply(len)\n",
    "\n",
    "# Agregime të ndryshme\n",
    "average_length = df['Message_length'].mean()\n",
    "max_length = df['Message_length'].max()\n",
    "min_length = df['Message_length'].min()\n",
    "\n",
    "# Numri i mesazheve 'spam' dhe 'ham'\n",
    "spam_count = df[df['Label'] == 'spam']['Label'].count()\n",
    "ham_count = df[df['Label'] == 'ham']['Label'].count()\n",
    "\n",
    "# Gjatësia mesatare e mesazheve për secilën kategori\n",
    "average_length_spam = df[df['Label'] == 'spam']['Message_length'].mean()\n",
    "average_length_ham = df[df['Label'] == 'ham']['Message_length'].mean()\n",
    "\n",
    "print(\"Statistika të Përgjithshme:\")\n",
    "print(f\"Gjatësia mesatare e mesazheve: {average_length:.2f}\")\n",
    "print(f\"Gjatësia maksimale e mesazheve: {max_length}\")\n",
    "print(f\"Gjatësia minimale e mesazheve: {min_length}\")\n",
    "print(f\"Numri i mesazheve 'spam': {spam_count}\")\n",
    "print(f\"Numri i mesazheve 'ham': {ham_count}\")\n",
    "print(\"Gjatësia mesatare e mesazheve sipas kategorisë:\")\n",
    "print(f\"Spam: {average_length_spam:.2f}\")\n",
    "print(f\"Ham: {average_length_ham:.2f}\")\n"
   ]
  },
  {
   "cell_type": "markdown",
   "metadata": {},
   "source": [
    "- Identifikimi i Outliers"
   ]
  },
  {
   "cell_type": "code",
   "execution_count": 76,
   "metadata": {},
   "outputs": [
    {
     "name": "stderr",
     "output_type": "stream",
     "text": [
      "c:\\Users\\vlorasht\\AppData\\Local\\Programs\\Python\\Python312\\Lib\\site-packages\\seaborn\\categorical.py:632: FutureWarning: SeriesGroupBy.grouper is deprecated and will be removed in a future version of pandas.\n",
      "  positions = grouped.grouper.result_index.to_numpy(dtype=float)\n"
     ]
    },
    {
     "data": {
      "image/png": "[encoded data removed]",
      "text/plain": [
       "<Figure size 800x600 with 1 Axes>"
      ]
     },
     "metadata": {},
     "output_type": "display_data"
    }
   ],
   "source": [
    "# Shtimi i kolonës për gjatësinë e mesazhit\n",
    "df['Message_length'] = df['Message'].apply(len)\n",
    "\n",
    "# Vizualizimi i një boxplot për gjatësinë e mesazheve\n",
    "plt.figure(figsize=(8, 6))\n",
    "sns.boxplot(x='Label', y='Message_length', data=df)\n",
    "plt.title('Boxplot of Message Length by Label')\n",
    "plt.show()\n"
   ]
  },
  {
   "cell_type": "markdown",
   "metadata": {},
   "source": [
    "- Përdorimi i IQR për të identifikuar dhe fshirë outliers"
   ]
  },
  {
   "cell_type": "code",
   "execution_count": 77,
   "metadata": {},
   "outputs": [
    {
     "name": "stderr",
     "output_type": "stream",
     "text": [
      "c:\\Users\\vlorasht\\AppData\\Local\\Programs\\Python\\Python312\\Lib\\site-packages\\seaborn\\categorical.py:632: FutureWarning: SeriesGroupBy.grouper is deprecated and will be removed in a future version of pandas.\n",
      "  positions = grouped.grouper.result_index.to_numpy(dtype=float)\n"
     ]
    },
    {
     "data": {
      "image/png": "[encoded data removed]",
      "text/plain": [
       "<Figure size 800x600 with 1 Axes>"
      ]
     },
     "metadata": {},
     "output_type": "display_data"
    }
   ],
   "source": [
    "import pandas as pd\n",
    "import matplotlib.pyplot as plt\n",
    "import seaborn as sns\n",
    "\n",
    "# Supozojmë se 'df' është DataFrame-i juaj që përmban kolonat 'Label' dhe 'Message'\n",
    "# Shtimi i kolonës së gjatësisë së mesazhit\n",
    "df['Message_length'] = df['Message'].apply(len)\n",
    "\n",
    "# Llogaritja e IQR për të identifikuar outliers\n",
    "Q1 = df['Message_length'].quantile(0.25)\n",
    "Q3 = df['Message_length'].quantile(0.75)\n",
    "IQR = Q3 - Q1\n",
    "lower_bound = Q1 - 1.5 * IQR\n",
    "upper_bound = Q3 + 1.5 * IQR\n",
    "\n",
    "# Identifikimi dhe heqja e outliers\n",
    "outliers = df[(df['Message_length'] < lower_bound) | (df['Message_length'] > upper_bound)]\n",
    "new_df = df[(df['Message_length'] >= lower_bound) & (df['Message_length'] <= upper_bound)]\n",
    "\n",
    "# Vizualizimi i një boxplot të gjatësisë së mesazheve pa outliers në new_df\n",
    "plt.figure(figsize=(8, 6))\n",
    "sns.boxplot(x='Label', y='Message_length', data=new_df)\n",
    "plt.title('Boxplot of Message Length by Label without Outliers')\n",
    "plt.xlabel('Label')\n",
    "plt.ylabel('Message Length')\n",
    "plt.show()\n",
    "\n"
   ]
  },
  {
   "cell_type": "markdown",
   "metadata": {},
   "source": [
    "- Aplikimi i SMOTE"
   ]
  },
  {
   "cell_type": "code",
   "execution_count": 78,
   "metadata": {},
   "outputs": [
    {
     "data": {
      "image/png": "[encoded data removed]",
      "text/plain": [
       "<Figure size 1400x600 with 2 Axes>"
      ]
     },
     "metadata": {},
     "output_type": "display_data"
    }
   ],
   "source": [
    "import matplotlib.pyplot as plt\n",
    "from collections import Counter\n",
    "from sklearn.datasets import make_classification\n",
    "from sklearn.model_selection import train_test_split\n",
    "from imblearn.over_sampling import SMOTE\n",
    "\n",
    "# Gjenerimi i një dataseti të thjeshtë për demonstrim\n",
    "X, y = make_classification(n_classes=2, class_sep=2, weights=[0.1, 0.9], n_informative=3, n_redundant=1, flip_y=0,\n",
    "                           n_features=20, n_clusters_per_class=1, n_samples=1000, random_state=10)\n",
    "\n",
    "# Ndajmë të dhënat në trajnues dhe testim\n",
    "X_train, X_test, y_train, y_test = train_test_split(X, y, test_size=0.25, random_state=42)\n",
    "\n",
    "# Inicializimi i SMOTE\n",
    "sm = SMOTE(random_state=42)\n",
    "\n",
    "# Aplikimi i SMOTE në të dhënat e trajnimit\n",
    "X_train_res, y_train_res = sm.fit_resample(X_train, y_train)\n",
    "\n",
    "# Llogaritja e shpërndarjes së klasave para dhe pas SMOTE\n",
    "class_distribution_before = Counter(y_train)\n",
    "class_distribution_after = Counter(y_train_res)\n",
    "\n",
    "# Vizualizimi\n",
    "fig, ax = plt.subplots(1, 2, figsize=(14, 6))\n",
    "\n",
    "ax[0].bar(class_distribution_before.keys(), class_distribution_before.values(), color=['blue', 'green'])\n",
    "ax[0].set_title('Shpërndarja e Klasave Para SMOTE')\n",
    "ax[0].set_xlabel('Klasa')\n",
    "ax[0].set_ylabel('Numri i Shembujve')\n",
    "ax[0].set_xticks(list(class_distribution_before.keys()))\n",
    "ax[0].set_xticklabels(['Klasa 0', 'Klasa 1'])\n",
    "\n",
    "ax[1].bar(class_distribution_after.keys(), class_distribution_after.values(), color=['blue', 'green'])\n",
    "ax[1].set_title('Shpërndarja e Klasave Pas SMOTE')\n",
    "ax[1].set_xlabel('Klasa')\n",
    "ax[1].set_ylabel('Numri i Shembujve')\n",
    "ax[1].set_xticks(list(class_distribution_after.keys()))\n",
    "ax[1].set_xticklabels(['Klasa 0', 'Klasa 1'])\n",
    "\n",
    "plt.tight_layout()\n",
    "plt.show()\n"
   ]
  },
  {
   "cell_type": "markdown",
   "metadata": {},
   "source": [
    "## FAZA 2\n"
   ]
  },
  {
   "cell_type": "markdown",
   "metadata": {},
   "source": [
    "### Trajnimi dhe testimi i të dhënave"
   ]
  },
  {
   "cell_type": "code",
   "execution_count": 127,
   "metadata": {},
   "outputs": [
    {
     "name": "stdout",
     "output_type": "stream",
     "text": [
      "Accuracy: 0.9563953488372093\n",
      "Confusion Matrix:\n",
      " [[916   0]\n",
      " [ 45  71]]\n",
      "Classification Report:\n",
      "               precision    recall  f1-score   support\n",
      "\n",
      "         ham       0.95      1.00      0.98       916\n",
      "        spam       1.00      0.61      0.76       116\n",
      "\n",
      "    accuracy                           0.96      1032\n",
      "   macro avg       0.98      0.81      0.87      1032\n",
      "weighted avg       0.96      0.96      0.95      1032\n",
      "\n"
     ]
    }
   ],
   "source": [
    "# Përgatitja dhe pastrimi i të dhënave\n",
    "df = df[['Label', 'Message']]\n",
    "df.columns = ['Label', 'Message']\n",
    "\n",
    "# Ndajmë të dhënat në trajnues dhe testim\n",
    "X_train, X_test, y_train, y_test = train_test_split(df['Message'], df['Label'], test_size=0.2, random_state=42)\n",
    "\n",
    "# Përdorimi i TF-IDF Vectorizer për të kthyer tekstet në një format të përpunueshëm numerik\n",
    "vectorizer = TfidfVectorizer()\n",
    "X_train_transformed = vectorizer.fit_transform(X_train)\n",
    "X_test_transformed = vectorizer.transform(X_test)\n",
    "\n",
    "# Trajnojmë modelin duke përdorur Naive Bayes\n",
    "model = MultinomialNB()\n",
    "model.fit(X_train_transformed, y_train)\n",
    "\n",
    "# Parashikimi dhe vlerësimi i modelit\n",
    "predictions = model.predict(X_test_transformed)\n",
    "print(\"Accuracy:\", accuracy_score(y_test, predictions))\n",
    "print(\"Confusion Matrix:\\n\", confusion_matrix(y_test, predictions))\n",
    "print(\"Classification Report:\\n\", classification_report(y_test, predictions))"
   ]
  },
  {
   "cell_type": "markdown",
   "metadata": {},
   "source": [
    "### Gradient Boosting Classifier"
   ]
  },
  {
   "cell_type": "code",
   "execution_count": 128,
   "metadata": {},
   "outputs": [
    {
     "name": "stdout",
     "output_type": "stream",
     "text": [
      "Accuracy: 0.935077519379845\n",
      "Confusion Matrix:\n",
      " [[890  26]\n",
      " [ 41  75]]\n",
      "Classification Report:\n",
      "               precision    recall  f1-score   support\n",
      "\n",
      "         ham       0.96      0.97      0.96       916\n",
      "        spam       0.74      0.65      0.69       116\n",
      "\n",
      "    accuracy                           0.94      1032\n",
      "   macro avg       0.85      0.81      0.83      1032\n",
      "weighted avg       0.93      0.94      0.93      1032\n",
      "\n"
     ]
    }
   ],
   "source": [
    "\n",
    "# Trajnojmë modelin duke përdorur Gradient Boosting\n",
    "gbc = GradientBoostingClassifier(n_estimators=100, learning_rate=1.0, max_depth=1, random_state=42)\n",
    "gbc.fit(X_train_transformed, y_train)\n",
    "\n",
    "# Parashikimi dhe vlerësimi i modelit\n",
    "gbc_predictions = gbc.predict(X_test_transformed)\n",
    "print(\"Accuracy:\", accuracy_score(y_test, gbc_predictions))\n",
    "print(\"Confusion Matrix:\\n\", confusion_matrix(y_test, gbc_predictions))\n",
    "print(\"Classification Report:\\n\", classification_report(y_test, gbc_predictions))\n"
   ]
  },
  {
   "cell_type": "markdown",
   "metadata": {},
   "source": [
    "### K Neighbors Classifier"
   ]
  },
  {
   "cell_type": "code",
   "execution_count": 129,
   "metadata": {},
   "outputs": [
    {
     "name": "stdout",
     "output_type": "stream",
     "text": [
      "Accuracy: 0.9302325581395349\n",
      "Confusion Matrix:\n",
      " [[916   0]\n",
      " [ 72  44]]\n",
      "Classification Report:\n",
      "               precision    recall  f1-score   support\n",
      "\n",
      "         ham       0.93      1.00      0.96       916\n",
      "        spam       1.00      0.38      0.55       116\n",
      "\n",
      "    accuracy                           0.93      1032\n",
      "   macro avg       0.96      0.69      0.76      1032\n",
      "weighted avg       0.94      0.93      0.92      1032\n",
      "\n"
     ]
    }
   ],
   "source": [
    "from sklearn.neighbors import KNeighborsClassifier\n",
    "\n",
    "# Trajnojmë modelin përdorur KNN\n",
    "knn = KNeighborsClassifier(n_neighbors=3)\n",
    "knn.fit(X_train_transformed, y_train)\n",
    "\n",
    "# Parashikimi dhe vlerësimi i modelit\n",
    "knn_predictions = knn.predict(X_test_transformed)\n",
    "print(\"Accuracy:\", accuracy_score(y_test, knn_predictions))\n",
    "print(\"Confusion Matrix:\\n\", confusion_matrix(y_test, knn_predictions))\n",
    "print(\"Classification Report:\\n\", classification_report(y_test, knn_predictions))\n"
   ]
  },
  {
   "cell_type": "markdown",
   "metadata": {},
   "source": [
    "### Logistic Regression"
   ]
  },
  {
   "cell_type": "code",
   "execution_count": 130,
   "metadata": {},
   "outputs": [
    {
     "name": "stdout",
     "output_type": "stream",
     "text": [
      "Logistic Regression Accuracy: 0.9660852713178295\n"
     ]
    }
   ],
   "source": [
    "lr_model = LogisticRegression()\n",
    "lr_model.fit(X_train_transformed, y_train)\n",
    "lr_predictions = lr_model.predict(X_test_transformed)\n",
    "print(\"Logistic Regression Accuracy:\", accuracy_score(y_test, lr_predictions))"
   ]
  },
  {
   "cell_type": "markdown",
   "metadata": {},
   "source": [
    "### Support Vector Machine (SVM)"
   ]
  },
  {
   "cell_type": "code",
   "execution_count": 131,
   "metadata": {},
   "outputs": [
    {
     "name": "stdout",
     "output_type": "stream",
     "text": [
      "SVM Accuracy: 0.9757751937984496\n"
     ]
    }
   ],
   "source": [
    "svm_model = SVC()\n",
    "svm_model.fit(X_train_transformed, y_train)\n",
    "svm_predictions = svm_model.predict(X_test_transformed)\n",
    "print(\"SVM Accuracy:\", accuracy_score(y_test, svm_predictions))"
   ]
  },
  {
   "cell_type": "markdown",
   "metadata": {},
   "source": [
    "### Decision Trees Classifier"
   ]
  },
  {
   "cell_type": "code",
   "execution_count": 132,
   "metadata": {},
   "outputs": [
    {
     "name": "stdout",
     "output_type": "stream",
     "text": [
      "Accuracy: 0.9408914728682171\n",
      "Confusion Matrix:\n",
      " [[890  26]\n",
      " [ 35  81]]\n",
      "Classification Report:\n",
      "               precision    recall  f1-score   support\n",
      "\n",
      "         ham       0.96      0.97      0.97       916\n",
      "        spam       0.76      0.70      0.73       116\n",
      "\n",
      "    accuracy                           0.94      1032\n",
      "   macro avg       0.86      0.83      0.85      1032\n",
      "weighted avg       0.94      0.94      0.94      1032\n",
      "\n"
     ]
    }
   ],
   "source": [
    "# Trajnojmë modelin përdorur Decision Tree\n",
    "dtc = DecisionTreeClassifier(max_depth=5, random_state=42)\n",
    "dtc.fit(X_train_transformed, y_train)\n",
    "\n",
    "# Parashikimi dhe vlerësimi i modelit\n",
    "dtc_predictions = dtc.predict(X_test_transformed)\n",
    "print(\"Accuracy:\", accuracy_score(y_test, dtc_predictions))\n",
    "print(\"Confusion Matrix:\\n\", confusion_matrix(y_test, dtc_predictions))\n",
    "print(\"Classification Report:\\n\", classification_report(y_test, dtc_predictions))\n"
   ]
  },
  {
   "cell_type": "code",
   "execution_count": 133,
   "metadata": {},
   "outputs": [
    {
     "name": "stdout",
     "output_type": "stream",
     "text": [
      "Accuracy: 0.9631782945736435\n",
      "Confusion Matrix:\n",
      " [[916   0]\n",
      " [ 38  78]]\n",
      "Classification Report:\n",
      "               precision    recall  f1-score   support\n",
      "\n",
      "         ham       0.96      1.00      0.98       916\n",
      "        spam       1.00      0.67      0.80       116\n",
      "\n",
      "    accuracy                           0.96      1032\n",
      "   macro avg       0.98      0.84      0.89      1032\n",
      "weighted avg       0.96      0.96      0.96      1032\n",
      "\n"
     ]
    }
   ],
   "source": [
    "# Data Preparation for Model Training\n",
    "## Text Vectorization with TF-IDF\n",
    "vectorizer = TfidfVectorizer(stop_words='english')\n",
    "X = vectorizer.fit_transform(df['Message'])\n",
    "y = df['Label']\n",
    "\n",
    "## Split data into training and testing sets\n",
    "X_train, X_test, y_train, y_test = train_test_split(X, y, test_size=0.2, random_state=42)\n",
    "\n",
    "# Model Training and Evaluation\n",
    "## Train Naive Bayes Classifier\n",
    "model = MultinomialNB()\n",
    "model.fit(X_train, y_train)\n",
    "y_pred = model.predict(X_test)\n",
    "print(\"Accuracy:\", accuracy_score(y_test, y_pred))\n",
    "print(\"Confusion Matrix:\\n\", confusion_matrix(y_test, y_pred))\n",
    "print(\"Classification Report:\\n\", classification_report(y_test, y_pred))\n"
   ]
  },
  {
   "cell_type": "markdown",
   "metadata": {},
   "source": [
    "### Additional Models and Cross-Validation"
   ]
  },
  {
   "cell_type": "code",
   "execution_count": 134,
   "metadata": {},
   "outputs": [
    {
     "name": "stdout",
     "output_type": "stream",
     "text": [
      "Logistic Regression Accuracy: 0.9515503875968992\n",
      "SVM Accuracy: 0.9680232558139535\n",
      "Naive Bayes Accuracy: 0.9619666886785531\n",
      "Logistic Regression Accuracy: 0.9401640619267738\n",
      "SVC Accuracy: 0.9656001173967276\n"
     ]
    }
   ],
   "source": [
    "# Training Additional Models\n",
    "## Logistic Regression\n",
    "lr_model = LogisticRegression()\n",
    "lr_model.fit(X_train, y_train)\n",
    "lr_predictions = lr_model.predict(X_test)\n",
    "print(\"Logistic Regression Accuracy:\", accuracy_score(y_test, lr_predictions))\n",
    "\n",
    "## Support Vector Machine (SVM)\n",
    "svm_model = SVC()\n",
    "svm_model.fit(X_train, y_train)\n",
    "svm_predictions = svm_model.predict(X_test)\n",
    "print(\"SVM Accuracy:\", accuracy_score(y_test, svm_predictions))\n",
    "\n",
    "\n",
    "# Cross-Validation Example\n",
    "models = [MultinomialNB(), LogisticRegression(), SVC()]\n",
    "model_names = ['Naive Bayes', 'Logistic Regression', 'SVC']\n",
    "for model, name in zip(models, model_names):\n",
    "    scores = cross_val_score(model, X_train, y_train, cv=5)\n",
    "    print(f\"{name} Accuracy: {np.mean(scores)}\")"
   ]
  },
  {
   "cell_type": "code",
   "execution_count": 135,
   "metadata": {},
   "outputs": [
    {
     "name": "stdout",
     "output_type": "stream",
     "text": [
      "\n",
      "Evaluating models with a train/test split of 60/40\n",
      "Logistic Regression - Accuracy: 0.95, F1-score: 0.72, Recall: 0.57, Precision: 0.99\n",
      "Decision Tree - Accuracy: 0.96, F1-score: 0.84, Recall: 0.82, Precision: 0.85\n",
      "Random Forest - Accuracy: 0.97, F1-score: 0.88, Recall: 0.78, Precision: 0.99\n",
      "Support Vector Machine - Accuracy: 0.98, F1-score: 0.89, Recall: 0.82, Precision: 0.98\n",
      "K Neighbors - Accuracy: 0.90, F1-score: 0.26, Recall: 0.15, Precision: 1.00\n",
      "\n",
      "Evaluating models with a train/test split of 70/30\n",
      "Logistic Regression - Accuracy: 0.95, F1-score: 0.73, Recall: 0.58, Precision: 0.97\n",
      "Decision Tree - Accuracy: 0.95, F1-score: 0.80, Recall: 0.81, Precision: 0.78\n",
      "Random Forest - Accuracy: 0.98, F1-score: 0.88, Recall: 0.79, Precision: 0.99\n",
      "Support Vector Machine - Accuracy: 0.98, F1-score: 0.89, Recall: 0.83, Precision: 0.95\n",
      "K Neighbors - Accuracy: 0.91, F1-score: 0.31, Recall: 0.19, Precision: 1.00\n",
      "\n",
      "Evaluating models with a train/test split of 80/20\n",
      "Logistic Regression - Accuracy: 0.96, F1-score: 0.78, Recall: 0.65, Precision: 0.97\n",
      "Decision Tree - Accuracy: 0.96, F1-score: 0.80, Recall: 0.80, Precision: 0.80\n",
      "Random Forest - Accuracy: 0.97, F1-score: 0.86, Recall: 0.77, Precision: 0.99\n",
      "Support Vector Machine - Accuracy: 0.98, F1-score: 0.89, Recall: 0.83, Precision: 0.96\n",
      "K Neighbors - Accuracy: 0.91, F1-score: 0.34, Recall: 0.21, Precision: 1.00\n",
      "\n",
      "Evaluating models with a train/test split of 90/10\n",
      "Logistic Regression - Accuracy: 0.96, F1-score: 0.79, Recall: 0.66, Precision: 0.97\n",
      "Decision Tree - Accuracy: 0.97, F1-score: 0.84, Recall: 0.81, Precision: 0.88\n",
      "Random Forest - Accuracy: 0.98, F1-score: 0.88, Recall: 0.79, Precision: 1.00\n",
      "Support Vector Machine - Accuracy: 0.98, F1-score: 0.91, Recall: 0.85, Precision: 0.98\n",
      "K Neighbors - Accuracy: 0.92, F1-score: 0.34, Recall: 0.21, Precision: 1.00\n"
     ]
    }
   ],
   "source": [
    "# Transforming text into numerical data\n",
    "vectorizer = TfidfVectorizer()\n",
    "X = vectorizer.fit_transform(new_df['Message'])\n",
    "y = new_df['Label'].apply(lambda x: 1 if x == 'spam' else 0)\n",
    "\n",
    "# Different test sizes for model evaluation\n",
    "splits = [0.4, 0.3, 0.2, 0.1]  # Test sizes\n",
    "\n",
    "# Initializing models\n",
    "models = {\n",
    "    'Logistic Regression': LogisticRegression(max_iter=1000),\n",
    "    'Decision Tree': DecisionTreeClassifier(),\n",
    "    'Random Forest': RandomForestClassifier(n_estimators=100),\n",
    "    'Support Vector Machine': SVC(kernel='linear'),\n",
    "    'K Neighbors': KNeighborsClassifier()\n",
    "}\n",
    "\n",
    "# Evaluating each model with each split\n",
    "for split in splits:\n",
    "    X_train, X_test, y_train, y_test = train_test_split(X, y, test_size=split, random_state=42)\n",
    "    print(f\"\\nEvaluating models with a train/test split of {int((1-split)*100)}/{int(split*100)}\")\n",
    "\n",
    "    for name, model in models.items():\n",
    "        model.fit(X_train, y_train)\n",
    "        predictions = model.predict(X_test)\n",
    "        accuracy = accuracy_score(y_test, predictions)\n",
    "        f1 = f1_score(y_test, predictions)\n",
    "        recall = recall_score(y_test, predictions)\n",
    "        precision = precision_score(y_test, predictions)\n",
    "        print(f\"{name} - Accuracy: {accuracy:.2f}, F1-score: {f1:.2f}, Recall: {recall:.2f}, Precision: {precision:.2f}\")\n"
   ]
  }
 ],
 "metadata": {
  "kernelspec": {
   "display_name": "Python 3",
   "language": "python",
   "name": "python3"
  },
  "language_info": {
   "codemirror_mode": {
    "name": "ipython",
    "version": 3
   },
   "file_extension": ".py",
   "mimetype": "text/x-python",
   "name": "python",
   "nbconvert_exporter": "python",
   "pygments_lexer": "ipython3",
   "version": "3.12.0"
  }
 },
 "nbformat": 4,
 "nbformat_minor": 2
}
